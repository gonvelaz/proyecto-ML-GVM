{
 "cells": [
  {
   "cell_type": "code",
   "execution_count": 1,
   "id": "5b20f79c",
   "metadata": {},
   "outputs": [],
   "source": [
    "import pandas as pd\n",
    "import tensorflow as tf\n",
    "from tensorflow import keras\n",
    "from category_encoders import TargetEncoder\n",
    "from sklearn.compose import ColumnTransformer\n",
    "from sklearn.pipeline import Pipeline\n",
    "from sklearn.preprocessing import OneHotEncoder, StandardScaler\n",
    "from sklearn.model_selection import train_test_split\n",
    "import matplotlib.pyplot as plt\n",
    "import numpy as np\n",
    "\n"
   ]
  },
  {
   "cell_type": "code",
   "execution_count": 2,
   "id": "9cbe48fc",
   "metadata": {},
   "outputs": [],
   "source": [
    "df = pd.read_csv('../src/data/processed_files/df_datos_completos.csv')"
   ]
  },
  {
   "cell_type": "code",
   "execution_count": 3,
   "id": "b3e5694f",
   "metadata": {},
   "outputs": [],
   "source": [
    "# Columnas categóricas\n",
    "categorical_columns = ['arbitro', 'estadio']\n",
    "\n",
    "# Pipeline para codificar la columna 'arbitro' con OneHotEncoder\n",
    "arbitro_pipeline = Pipeline([\n",
    "    ('onehot', OneHotEncoder(sparse=False, handle_unknown='ignore'))\n",
    "])\n",
    "\n",
    "# Pipeline para codificar la columna 'estadio' con TargetEncoder\n",
    "estadio_pipeline = Pipeline([\n",
    "    ('target', TargetEncoder())\n",
    "])\n",
    "\n",
    "# ColumnTransformer para aplicar los pipelines a las columnas correspondientes\n",
    "preprocessor = ColumnTransformer([\n",
    "    ('arbitro', arbitro_pipeline, ['arbitro']),\n",
    "    ('estadio', estadio_pipeline, ['estadio']),\n",
    "    ], remainder = \"passthrough\")\n",
    "\n",
    "# Pipeline final con el preprocesamiento y el modelo RandomForestClassifier\n",
    "pipeline = Pipeline([\n",
    "    ('preprocessor', preprocessor),\n",
    "    ('scaler', StandardScaler()),\n",
    "])"
   ]
  },
  {
   "cell_type": "code",
   "execution_count": 4,
   "id": "e388ffe1",
   "metadata": {},
   "outputs": [],
   "source": [
    "X = df.drop(['index', 'fixture_id','resultado', 'goles_local', 'goles_visitante','goles_descanso_local','goles_descanso_visitante','fecha_timestamp' ], axis=1)\n",
    "y = df['resultado']"
   ]
  },
  {
   "cell_type": "code",
   "execution_count": 5,
   "id": "0d40763c",
   "metadata": {},
   "outputs": [],
   "source": [
    "pipeline.fit(X,y)\n",
    "x_transform = pipeline.transform(X)"
   ]
  },
  {
   "cell_type": "code",
   "execution_count": 6,
   "id": "fd2b58ee",
   "metadata": {},
   "outputs": [],
   "source": [
    "X_train, X_test, y_train, y_test = train_test_split(x_transform, y, test_size=0.2)"
   ]
  },
  {
   "cell_type": "code",
   "execution_count": 25,
   "id": "a4bc8b5b",
   "metadata": {},
   "outputs": [],
   "source": [
    "model = keras.models.Sequential()\n",
    "model.add(keras.layers.Dense(3857, input_dim=3857, activation='relu'))\n",
    "model.add(keras.layers.Dense(1150, activation='relu'))\n",
    "model.add(keras.layers.Dense(300, activation='relu'))\n",
    "model.add(keras.layers.Dense(100, activation='relu'))\n",
    "model.add(keras.layers.Dense(3, activation='softmax'))"
   ]
  },
  {
   "cell_type": "code",
   "execution_count": 26,
   "id": "4ff4a58b",
   "metadata": {},
   "outputs": [],
   "source": [
    "model.compile(optimizer=\"sgd\",\n",
    "              loss=\"sparse_categorical_crossentropy\",\n",
    "              metrics=[\"accuracy\"])"
   ]
  },
  {
   "cell_type": "code",
   "execution_count": 27,
   "id": "97144b68",
   "metadata": {},
   "outputs": [
    {
     "name": "stdout",
     "output_type": "stream",
     "text": [
      "Fit model on training data\n",
      "Epoch 1/50\n",
      "108/108 [==============================] - 17s 140ms/step - loss: 1.0989 - accuracy: 0.4185 - val_loss: 1.1077 - val_accuracy: 0.3926\n",
      "Epoch 2/50\n",
      "108/108 [==============================] - 15s 137ms/step - loss: 0.8478 - accuracy: 0.6489 - val_loss: 1.2163 - val_accuracy: 0.3961\n",
      "Epoch 3/50\n",
      "108/108 [==============================] - 16s 144ms/step - loss: 0.5882 - accuracy: 0.8315 - val_loss: 1.2048 - val_accuracy: 0.4007\n",
      "Epoch 4/50\n",
      "108/108 [==============================] - 17s 154ms/step - loss: 0.3288 - accuracy: 0.9381 - val_loss: 1.3448 - val_accuracy: 0.4204\n",
      "Epoch 5/50\n",
      "108/108 [==============================] - 16s 144ms/step - loss: 0.1441 - accuracy: 0.9916 - val_loss: 1.4322 - val_accuracy: 0.4321\n",
      "Epoch 6/50\n",
      "108/108 [==============================] - 15s 138ms/step - loss: 0.0607 - accuracy: 0.9994 - val_loss: 1.5527 - val_accuracy: 0.4425\n"
     ]
    }
   ],
   "source": [
    "print(\"Fit model on training data\")\n",
    "checkpoint_cb = keras.callbacks.ModelCheckpoint(\"callback_model.h5\")\n",
    "early_stopping_cb = keras.callbacks.EarlyStopping(patience=5, \n",
    "                                                  restore_best_weights=True)\n",
    "history = model.fit(\n",
    "    X_train,\n",
    "    y_train,\n",
    "    batch_size=32, \n",
    "    epochs=50, \n",
    "    validation_split = 0.2,\n",
    "    callbacks = [checkpoint_cb, early_stopping_cb]\n",
    ")"
   ]
  },
  {
   "cell_type": "code",
   "execution_count": 28,
   "id": "1cd18216",
   "metadata": {},
   "outputs": [
    {
     "name": "stdout",
     "output_type": "stream",
     "text": [
      "34/34 [==============================] - 1s 30ms/step - loss: 1.0820 - accuracy: 0.4253\n",
      "test loss, test acc: [1.0820127725601196, 0.42525532841682434]\n"
     ]
    }
   ],
   "source": [
    "results = model.evaluate(X_test, y_test)\n",
    "print(\"test loss, test acc:\", results)"
   ]
  },
  {
   "cell_type": "code",
   "execution_count": null,
   "id": "615ab5b2",
   "metadata": {},
   "outputs": [],
   "source": []
  }
 ],
 "metadata": {
  "kernelspec": {
   "display_name": "Python 3 (ipykernel)",
   "language": "python",
   "name": "python3"
  },
  "language_info": {
   "codemirror_mode": {
    "name": "ipython",
    "version": 3
   },
   "file_extension": ".py",
   "mimetype": "text/x-python",
   "name": "python",
   "nbconvert_exporter": "python",
   "pygments_lexer": "ipython3",
   "version": "3.7.4"
  }
 },
 "nbformat": 4,
 "nbformat_minor": 5
}
